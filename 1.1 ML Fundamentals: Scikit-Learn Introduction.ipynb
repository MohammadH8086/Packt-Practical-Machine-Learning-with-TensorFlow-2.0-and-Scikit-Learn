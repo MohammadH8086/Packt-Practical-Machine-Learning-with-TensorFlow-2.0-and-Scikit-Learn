{
 "cells": [
  {
   "cell_type": "code",
   "execution_count": 5,
   "id": "1c77ae75",
   "metadata": {},
   "outputs": [],
   "source": [
    "import numpy as np\n",
    "import matplotlib.pyplot as plt\n",
    "from sklearn.datasets import load_digits"
   ]
  },
  {
   "cell_type": "code",
   "execution_count": 6,
   "id": "daad8e9d",
   "metadata": {},
   "outputs": [],
   "source": [
    "digits=load_digits()"
   ]
  },
  {
   "cell_type": "code",
   "execution_count": 7,
   "id": "ed8ac4f0",
   "metadata": {},
   "outputs": [
    {
     "data": {
      "text/plain": [
       "['DESCR', 'data', 'feature_names', 'frame', 'images', 'target', 'target_names']"
      ]
     },
     "execution_count": 7,
     "metadata": {},
     "output_type": "execute_result"
    }
   ],
   "source": [
    "dir(digits)"
   ]
  },
  {
   "cell_type": "code",
   "execution_count": 15,
   "id": "a8859852",
   "metadata": {},
   "outputs": [
    {
     "name": "stdout",
     "output_type": "stream",
     "text": [
      ".. _digits_dataset:\n",
      "\n",
      "Optical recognition of handwritten digits dataset\n",
      "--------------------------------------------------\n",
      "\n",
      "**Data Set Characteristics:**\n",
      "\n",
      ":Number of Instances: 1797\n",
      ":Number of Attributes: 64\n",
      ":Attribute Information: 8x8 image of integer pixels in the range 0..16.\n",
      ":Missing Attribute Values: None\n",
      ":Creator: E. Alpaydin (alpaydin '@' boun.edu.tr)\n",
      ":Date: July; 1998\n",
      "\n",
      "This is a copy of the test set of the UCI ML hand-written digits datasets\n",
      "https://archive.ics.uci.edu/ml/datasets/Optical+Recognition+of+Handwritten+Digits\n",
      "\n",
      "The data set contains images of hand-written digits: 10 classes where\n",
      "each class refers to a digit.\n",
      "\n",
      "Preprocessing programs made available by NIST were used to extract\n",
      "normalized bitmaps of handwritten digits from a preprinted form. From a\n",
      "total of 43 people, 30 contributed to the training set and different 13\n",
      "to the test set. 32x32 bitmaps are divided into nonoverlapping blocks of\n",
      "4x4 and the number of on pixels are counted in each block. This generates\n",
      "an input matrix of 8x8 where each element is an integer in the range\n",
      "0..16. This reduces dimensionality and gives invariance to small\n",
      "distortions.\n",
      "\n",
      "For info on NIST preprocessing routines, see M. D. Garris, J. L. Blue, G.\n",
      "T. Candela, D. L. Dimmick, J. Geist, P. J. Grother, S. A. Janet, and C.\n",
      "L. Wilson, NIST Form-Based Handprint Recognition System, NISTIR 5469,\n",
      "1994.\n",
      "\n",
      "|details-start|\n",
      "**References**\n",
      "|details-split|\n",
      "\n",
      "- C. Kaynak (1995) Methods of Combining Multiple Classifiers and Their\n",
      "  Applications to Handwritten Digit Recognition, MSc Thesis, Institute of\n",
      "  Graduate Studies in Science and Engineering, Bogazici University.\n",
      "- E. Alpaydin, C. Kaynak (1998) Cascading Classifiers, Kybernetika.\n",
      "- Ken Tang and Ponnuthurai N. Suganthan and Xi Yao and A. Kai Qin.\n",
      "  Linear dimensionalityreduction using relevance weighted LDA. School of\n",
      "  Electrical and Electronic Engineering Nanyang Technological University.\n",
      "  2005.\n",
      "- Claudio Gentile. A New Approximate Maximal Margin Classification\n",
      "  Algorithm. NIPS. 2000.\n",
      "\n",
      "|details-end|\n",
      "\n"
     ]
    }
   ],
   "source": [
    "print(digits.DESCR)"
   ]
  },
  {
   "cell_type": "code",
   "execution_count": 16,
   "id": "5fb35d33",
   "metadata": {},
   "outputs": [
    {
     "data": {
      "text/plain": [
       "['pixel_0_0',\n",
       " 'pixel_0_1',\n",
       " 'pixel_0_2',\n",
       " 'pixel_0_3',\n",
       " 'pixel_0_4',\n",
       " 'pixel_0_5',\n",
       " 'pixel_0_6',\n",
       " 'pixel_0_7',\n",
       " 'pixel_1_0',\n",
       " 'pixel_1_1',\n",
       " 'pixel_1_2',\n",
       " 'pixel_1_3',\n",
       " 'pixel_1_4',\n",
       " 'pixel_1_5',\n",
       " 'pixel_1_6',\n",
       " 'pixel_1_7',\n",
       " 'pixel_2_0',\n",
       " 'pixel_2_1',\n",
       " 'pixel_2_2',\n",
       " 'pixel_2_3',\n",
       " 'pixel_2_4',\n",
       " 'pixel_2_5',\n",
       " 'pixel_2_6',\n",
       " 'pixel_2_7',\n",
       " 'pixel_3_0',\n",
       " 'pixel_3_1',\n",
       " 'pixel_3_2',\n",
       " 'pixel_3_3',\n",
       " 'pixel_3_4',\n",
       " 'pixel_3_5',\n",
       " 'pixel_3_6',\n",
       " 'pixel_3_7',\n",
       " 'pixel_4_0',\n",
       " 'pixel_4_1',\n",
       " 'pixel_4_2',\n",
       " 'pixel_4_3',\n",
       " 'pixel_4_4',\n",
       " 'pixel_4_5',\n",
       " 'pixel_4_6',\n",
       " 'pixel_4_7',\n",
       " 'pixel_5_0',\n",
       " 'pixel_5_1',\n",
       " 'pixel_5_2',\n",
       " 'pixel_5_3',\n",
       " 'pixel_5_4',\n",
       " 'pixel_5_5',\n",
       " 'pixel_5_6',\n",
       " 'pixel_5_7',\n",
       " 'pixel_6_0',\n",
       " 'pixel_6_1',\n",
       " 'pixel_6_2',\n",
       " 'pixel_6_3',\n",
       " 'pixel_6_4',\n",
       " 'pixel_6_5',\n",
       " 'pixel_6_6',\n",
       " 'pixel_6_7',\n",
       " 'pixel_7_0',\n",
       " 'pixel_7_1',\n",
       " 'pixel_7_2',\n",
       " 'pixel_7_3',\n",
       " 'pixel_7_4',\n",
       " 'pixel_7_5',\n",
       " 'pixel_7_6',\n",
       " 'pixel_7_7']"
      ]
     },
     "execution_count": 16,
     "metadata": {},
     "output_type": "execute_result"
    }
   ],
   "source": [
    "digits.feature_names"
   ]
  },
  {
   "cell_type": "code",
   "execution_count": 31,
   "id": "130ff48a",
   "metadata": {},
   "outputs": [
    {
     "data": {
      "text/plain": [
       "array([0, 1, 2, 3, 4, 5, 6, 7, 8, 9])"
      ]
     },
     "execution_count": 31,
     "metadata": {},
     "output_type": "execute_result"
    }
   ],
   "source": [
    "digits.target_names"
   ]
  },
  {
   "cell_type": "code",
   "execution_count": 18,
   "id": "1e6bf831",
   "metadata": {},
   "outputs": [
    {
     "data": {
      "text/plain": [
       "(1797, 64)"
      ]
     },
     "execution_count": 18,
     "metadata": {},
     "output_type": "execute_result"
    }
   ],
   "source": [
    "digits.data.shape"
   ]
  },
  {
   "cell_type": "code",
   "execution_count": 19,
   "id": "b0e3b69e",
   "metadata": {},
   "outputs": [
    {
     "data": {
      "text/plain": [
       "(1797,)"
      ]
     },
     "execution_count": 19,
     "metadata": {},
     "output_type": "execute_result"
    }
   ],
   "source": [
    "digits.target.shape"
   ]
  },
  {
   "cell_type": "code",
   "execution_count": 21,
   "id": "34370dba",
   "metadata": {},
   "outputs": [
    {
     "data": {
      "text/plain": [
       "(1797, 8, 8)"
      ]
     },
     "execution_count": 21,
     "metadata": {},
     "output_type": "execute_result"
    }
   ],
   "source": [
    "digits.images.shape"
   ]
  },
  {
   "cell_type": "code",
   "execution_count": 36,
   "id": "80a494c9",
   "metadata": {},
   "outputs": [
    {
     "data": {
      "text/plain": [
       "array([[ 0.,  0.,  5., 13.,  9.,  1.,  0.,  0.],\n",
       "       [ 0.,  0., 13., 15., 10., 15.,  5.,  0.],\n",
       "       [ 0.,  3., 15.,  2.,  0., 11.,  8.,  0.],\n",
       "       [ 0.,  4., 12.,  0.,  0.,  8.,  8.,  0.],\n",
       "       [ 0.,  5.,  8.,  0.,  0.,  9.,  8.,  0.],\n",
       "       [ 0.,  4., 11.,  0.,  1., 12.,  7.,  0.],\n",
       "       [ 0.,  2., 14.,  5., 10., 12.,  0.,  0.],\n",
       "       [ 0.,  0.,  6., 13., 10.,  0.,  0.,  0.]])"
      ]
     },
     "execution_count": 36,
     "metadata": {},
     "output_type": "execute_result"
    }
   ],
   "source": [
    "digits.images[0]"
   ]
  },
  {
   "cell_type": "code",
   "execution_count": 61,
   "id": "a16ea7e1",
   "metadata": {},
   "outputs": [
    {
     "data": {
      "text/plain": [
       "<matplotlib.image.AxesImage at 0x7220f8311a30>"
      ]
     },
     "execution_count": 61,
     "metadata": {},
     "output_type": "execute_result"
    },
    {
     "data": {
      "image/png": "[encoded data removed]",
      "text/plain": [
       "<Figure size 640x480 with 1 Axes>"
      ]
     },
     "metadata": {},
     "output_type": "display_data"
    }
   ],
   "source": [
    "plt.imshow(16-digits.images[0],cmap='gray')"
   ]
  },
  {
   "cell_type": "code",
   "execution_count": 51,
   "id": "50f9fab8",
   "metadata": {},
   "outputs": [
    {
     "data": {
      "text/plain": [
       "0"
      ]
     },
     "execution_count": 51,
     "metadata": {},
     "output_type": "execute_result"
    }
   ],
   "source": [
    "digits.target[0]"
   ]
  },
  {
   "cell_type": "code",
   "execution_count": 97,
   "id": "353a36d5",
   "metadata": {},
   "outputs": [],
   "source": [
    "x_train=digits.data[:-1]\n",
    "x_test=digits.data[-1:]\n",
    "y_train=digits.target[:-1]\n",
    "y_test=digits.target[-1:]"
   ]
  },
  {
   "cell_type": "code",
   "execution_count": 98,
   "id": "e4834f32",
   "metadata": {},
   "outputs": [
    {
     "data": {
      "text/plain": [
       "array([-2.28119225e-15,  9.40249350e-02, -3.67939617e-03, -7.72167429e-03,\n",
       "        7.49514697e-02,  1.15243563e-02, -2.72158636e-02, -7.31904304e-03,\n",
       "        1.00102690e+00, -2.84132215e-02,  1.18887868e-01,  6.59994113e-02,\n",
       "       -5.58787175e-02, -7.04137172e-02,  9.65429164e-02,  2.56033005e-01,\n",
       "       -7.29405068e-01,  2.40605548e-02,  7.76124220e-02, -2.29357716e-02,\n",
       "       -5.66039721e-02,  5.81134072e-02, -4.91673806e-02, -2.62755693e-01,\n",
       "       -9.08254598e-01, -1.49425933e-01,  5.59359249e-02,  8.97465435e-02,\n",
       "        8.39772547e-02,  9.83482587e-02,  1.86692450e-03, -2.97298764e+00,\n",
       "       -5.29928547e-15, -1.54851687e-01, -8.97570476e-03,  1.39494684e-01,\n",
       "       -3.67398683e-02,  5.46737441e-02, -9.53756017e-03, -4.79657000e-15,\n",
       "        1.00930061e-01,  1.23968401e-01, -1.37042140e-02,  5.34285543e-03,\n",
       "        1.30949507e-01,  5.51389202e-02,  2.24650594e-02,  7.76787978e-03,\n",
       "        6.14807150e-01,  2.67348801e-02,  1.20233616e-03, -6.19644555e-02,\n",
       "       -2.06960828e-01, -3.39245068e-02,  1.05783054e-01, -1.40682284e-01,\n",
       "       -1.01420937e+00, -1.13249749e-01,  2.06527116e-02, -4.39417720e-02,\n",
       "        1.85650152e-02, -6.65628180e-02,  1.14557345e-02, -5.23335705e-02])"
      ]
     },
     "execution_count": 98,
     "metadata": {},
     "output_type": "execute_result"
    }
   ],
   "source": [
    "#train model y =x w\n",
    "x_train_inv=np.linalg.pinv(x_train)\n",
    "w=np.dot(x_train_inv,y_train)\n",
    "w"
   ]
  },
  {
   "cell_type": "code",
   "execution_count": 99,
   "id": "d942ce71",
   "metadata": {},
   "outputs": [
    {
     "data": {
      "text/plain": [
       "(64, 1796)"
      ]
     },
     "execution_count": 99,
     "metadata": {},
     "output_type": "execute_result"
    }
   ],
   "source": [
    "x_train_inv.shape"
   ]
  },
  {
   "cell_type": "code",
   "execution_count": 100,
   "id": "33953ab5",
   "metadata": {},
   "outputs": [
    {
     "data": {
      "text/plain": [
       "(1796, 64)"
      ]
     },
     "execution_count": 100,
     "metadata": {},
     "output_type": "execute_result"
    }
   ],
   "source": [
    "x_train.shape"
   ]
  },
  {
   "cell_type": "code",
   "execution_count": 101,
   "id": "72c41167",
   "metadata": {},
   "outputs": [
    {
     "data": {
      "text/plain": [
       "(64,)"
      ]
     },
     "execution_count": 101,
     "metadata": {},
     "output_type": "execute_result"
    }
   ],
   "source": [
    "w.shape"
   ]
  },
  {
   "cell_type": "code",
   "execution_count": 102,
   "id": "e611041d",
   "metadata": {},
   "outputs": [
    {
     "name": "stdout",
     "output_type": "stream",
     "text": [
      "y_hat: [9.30939946]   rounds to 9.0\n",
      "actual y label: [8]\n"
     ]
    }
   ],
   "source": [
    "#test model\n",
    "y_hat=np.dot(x_test,w)\n",
    "print(f'y_hat: {y_hat}   rounds to {np.round(y_hat)[0]}')\n",
    "print('actual y label: {}'.format(y_test))"
   ]
  },
  {
   "cell_type": "code",
   "execution_count": 107,
   "id": "38784ee5",
   "metadata": {},
   "outputs": [
    {
     "data": {
      "text/plain": [
       "<matplotlib.image.AxesImage at 0x7220f7c2f320>"
      ]
     },
     "execution_count": 107,
     "metadata": {},
     "output_type": "execute_result"
    },
    {
     "data": {
      "image/png": "[encoded data removed]",
      "text/plain": [
       "<Figure size 640x480 with 1 Axes>"
      ]
     },
     "metadata": {},
     "output_type": "display_data"
    }
   ],
   "source": [
    "plt.imshow(16-digits.images[-1],cmap='gray')"
   ]
  },
  {
   "cell_type": "code",
   "execution_count": 126,
   "id": "1eaa2782",
   "metadata": {},
   "outputs": [],
   "source": [
    "#with scikit-learn\n",
    "from sklearn import linear_model\n",
    "reg=linear_model.Ridge()"
   ]
  },
  {
   "cell_type": "code",
   "execution_count": 127,
   "id": "75a4a5e7",
   "metadata": {},
   "outputs": [
    {
     "data": {
      "text/html": [
       "<style>#sk-container-id-5 {\n",
       "  /* Definition of color scheme common for light and dark mode */\n",
       "  --sklearn-color-text: black;\n",
       "  --sklearn-color-line: gray;\n",
       "  /* Definition of color scheme for unfitted estimators */\n",
       "  --sklearn-color-unfitted-level-0: #fff5e6;\n",
       "  --sklearn-color-unfitted-level-1: #f6e4d2;\n",
       "  --sklearn-color-unfitted-level-2: #ffe0b3;\n",
       "  --sklearn-color-unfitted-level-3: chocolate;\n",
       "  /* Definition of color scheme for fitted estimators */\n",
       "  --sklearn-color-fitted-level-0: #f0f8ff;\n",
       "  --sklearn-color-fitted-level-1: #d4ebff;\n",
       "  --sklearn-color-fitted-level-2: #b3dbfd;\n",
       "  --sklearn-color-fitted-level-3: cornflowerblue;\n",
       "\n",
       "  /* Specific color for light theme */\n",
       "  --sklearn-color-text-on-default-background: var(--sg-text-color, var(--theme-code-foreground, var(--jp-content-font-color1, black)));\n",
       "  --sklearn-color-background: var(--sg-background-color, var(--theme-background, var(--jp-layout-color0, white)));\n",
       "  --sklearn-color-border-box: var(--sg-text-color, var(--theme-code-foreground, var(--jp-content-font-color1, black)));\n",
       "  --sklearn-color-icon: #696969;\n",
       "\n",
       "  @media (prefers-color-scheme: dark) {\n",
       "    /* Redefinition of color scheme for dark theme */\n",
       "    --sklearn-color-text-on-default-background: var(--sg-text-color, var(--theme-code-foreground, var(--jp-content-font-color1, white)));\n",
       "    --sklearn-color-background: var(--sg-background-color, var(--theme-background, var(--jp-layout-color0, #111)));\n",
       "    --sklearn-color-border-box: var(--sg-text-color, var(--theme-code-foreground, var(--jp-content-font-color1, white)));\n",
       "    --sklearn-color-icon: #878787;\n",
       "  }\n",
       "}\n",
       "\n",
       "#sk-container-id-5 {\n",
       "  color: var(--sklearn-color-text);\n",
       "}\n",
       "\n",
       "#sk-container-id-5 pre {\n",
       "  padding: 0;\n",
       "}\n",
       "\n",
       "#sk-container-id-5 input.sk-hidden--visually {\n",
       "  border: 0;\n",
       "  clip: rect(1px 1px 1px 1px);\n",
       "  clip: rect(1px, 1px, 1px, 1px);\n",
       "  height: 1px;\n",
       "  margin: -1px;\n",
       "  overflow: hidden;\n",
       "  padding: 0;\n",
       "  position: absolute;\n",
       "  width: 1px;\n",
       "}\n",
       "\n",
       "#sk-container-id-5 div.sk-dashed-wrapped {\n",
       "  border: 1px dashed var(--sklearn-color-line);\n",
       "  margin: 0 0.4em 0.5em 0.4em;\n",
       "  box-sizing: border-box;\n",
       "  padding-bottom: 0.4em;\n",
       "  background-color: var(--sklearn-color-background);\n",
       "}\n",
       "\n",
       "#sk-container-id-5 div.sk-container {\n",
       "  /* jupyter's `normalize.less` sets `[hidden] { display: none; }`\n",
       "     but bootstrap.min.css set `[hidden] { display: none !important; }`\n",
       "     so we also need the `!important` here to be able to override the\n",
       "     default hidden behavior on the sphinx rendered scikit-learn.org.\n",
       "     See: https://github.com/scikit-learn/scikit-learn/issues/21755 */\n",
       "  display: inline-block !important;\n",
       "  position: relative;\n",
       "}\n",
       "\n",
       "#sk-container-id-5 div.sk-text-repr-fallback {\n",
       "  display: none;\n",
       "}\n",
       "\n",
       "div.sk-parallel-item,\n",
       "div.sk-serial,\n",
       "div.sk-item {\n",
       "  /* draw centered vertical line to link estimators */\n",
       "  background-image: linear-gradient(var(--sklearn-color-text-on-default-background), var(--sklearn-color-text-on-default-background));\n",
       "  background-size: 2px 100%;\n",
       "  background-repeat: no-repeat;\n",
       "  background-position: center center;\n",
       "}\n",
       "\n",
       "/* Parallel-specific style estimator block */\n",
       "\n",
       "#sk-container-id-5 div.sk-parallel-item::after {\n",
       "  content: \"\";\n",
       "  width: 100%;\n",
       "  border-bottom: 2px solid var(--sklearn-color-text-on-default-background);\n",
       "  flex-grow: 1;\n",
       "}\n",
       "\n",
       "#sk-container-id-5 div.sk-parallel {\n",
       "  display: flex;\n",
       "  align-items: stretch;\n",
       "  justify-content: center;\n",
       "  background-color: var(--sklearn-color-background);\n",
       "  position: relative;\n",
       "}\n",
       "\n",
       "#sk-container-id-5 div.sk-parallel-item {\n",
       "  display: flex;\n",
       "  flex-direction: column;\n",
       "}\n",
       "\n",
       "#sk-container-id-5 div.sk-parallel-item:first-child::after {\n",
       "  align-self: flex-end;\n",
       "  width: 50%;\n",
       "}\n",
       "\n",
       "#sk-container-id-5 div.sk-parallel-item:last-child::after {\n",
       "  align-self: flex-start;\n",
       "  width: 50%;\n",
       "}\n",
       "\n",
       "#sk-container-id-5 div.sk-parallel-item:only-child::after {\n",
       "  width: 0;\n",
       "}\n",
       "\n",
       "/* Serial-specific style estimator block */\n",
       "\n",
       "#sk-container-id-5 div.sk-serial {\n",
       "  display: flex;\n",
       "  flex-direction: column;\n",
       "  align-items: center;\n",
       "  background-color: var(--sklearn-color-background);\n",
       "  padding-right: 1em;\n",
       "  padding-left: 1em;\n",
       "}\n",
       "\n",
       "\n",
       "/* Toggleable style: style used for estimator/Pipeline/ColumnTransformer box that is\n",
       "clickable and can be expanded/collapsed.\n",
       "- Pipeline and ColumnTransformer use this feature and define the default style\n",
       "- Estimators will overwrite some part of the style using the `sk-estimator` class\n",
       "*/\n",
       "\n",
       "/* Pipeline and ColumnTransformer style (default) */\n",
       "\n",
       "#sk-container-id-5 div.sk-toggleable {\n",
       "  /* Default theme specific background. It is overwritten whether we have a\n",
       "  specific estimator or a Pipeline/ColumnTransformer */\n",
       "  background-color: var(--sklearn-color-background);\n",
       "}\n",
       "\n",
       "/* Toggleable label */\n",
       "#sk-container-id-5 label.sk-toggleable__label {\n",
       "  cursor: pointer;\n",
       "  display: block;\n",
       "  width: 100%;\n",
       "  margin-bottom: 0;\n",
       "  padding: 0.5em;\n",
       "  box-sizing: border-box;\n",
       "  text-align: center;\n",
       "}\n",
       "\n",
       "#sk-container-id-5 label.sk-toggleable__label-arrow:before {\n",
       "  /* Arrow on the left of the label */\n",
       "  content: \"▸\";\n",
       "  float: left;\n",
       "  margin-right: 0.25em;\n",
       "  color: var(--sklearn-color-icon);\n",
       "}\n",
       "\n",
       "#sk-container-id-5 label.sk-toggleable__label-arrow:hover:before {\n",
       "  color: var(--sklearn-color-text);\n",
       "}\n",
       "\n",
       "/* Toggleable content - dropdown */\n",
       "\n",
       "#sk-container-id-5 div.sk-toggleable__content {\n",
       "  max-height: 0;\n",
       "  max-width: 0;\n",
       "  overflow: hidden;\n",
       "  text-align: left;\n",
       "  /* unfitted */\n",
       "  background-color: var(--sklearn-color-unfitted-level-0);\n",
       "}\n",
       "\n",
       "#sk-container-id-5 div.sk-toggleable__content.fitted {\n",
       "  /* fitted */\n",
       "  background-color: var(--sklearn-color-fitted-level-0);\n",
       "}\n",
       "\n",
       "#sk-container-id-5 div.sk-toggleable__content pre {\n",
       "  margin: 0.2em;\n",
       "  border-radius: 0.25em;\n",
       "  color: var(--sklearn-color-text);\n",
       "  /* unfitted */\n",
       "  background-color: var(--sklearn-color-unfitted-level-0);\n",
       "}\n",
       "\n",
       "#sk-container-id-5 div.sk-toggleable__content.fitted pre {\n",
       "  /* unfitted */\n",
       "  background-color: var(--sklearn-color-fitted-level-0);\n",
       "}\n",
       "\n",
       "#sk-container-id-5 input.sk-toggleable__control:checked~div.sk-toggleable__content {\n",
       "  /* Expand drop-down */\n",
       "  max-height: 200px;\n",
       "  max-width: 100%;\n",
       "  overflow: auto;\n",
       "}\n",
       "\n",
       "#sk-container-id-5 input.sk-toggleable__control:checked~label.sk-toggleable__label-arrow:before {\n",
       "  content: \"▾\";\n",
       "}\n",
       "\n",
       "/* Pipeline/ColumnTransformer-specific style */\n",
       "\n",
       "#sk-container-id-5 div.sk-label input.sk-toggleable__control:checked~label.sk-toggleable__label {\n",
       "  color: var(--sklearn-color-text);\n",
       "  background-color: var(--sklearn-color-unfitted-level-2);\n",
       "}\n",
       "\n",
       "#sk-container-id-5 div.sk-label.fitted input.sk-toggleable__control:checked~label.sk-toggleable__label {\n",
       "  background-color: var(--sklearn-color-fitted-level-2);\n",
       "}\n",
       "\n",
       "/* Estimator-specific style */\n",
       "\n",
       "/* Colorize estimator box */\n",
       "#sk-container-id-5 div.sk-estimator input.sk-toggleable__control:checked~label.sk-toggleable__label {\n",
       "  /* unfitted */\n",
       "  background-color: var(--sklearn-color-unfitted-level-2);\n",
       "}\n",
       "\n",
       "#sk-container-id-5 div.sk-estimator.fitted input.sk-toggleable__control:checked~label.sk-toggleable__label {\n",
       "  /* fitted */\n",
       "  background-color: var(--sklearn-color-fitted-level-2);\n",
       "}\n",
       "\n",
       "#sk-container-id-5 div.sk-label label.sk-toggleable__label,\n",
       "#sk-container-id-5 div.sk-label label {\n",
       "  /* The background is the default theme color */\n",
       "  color: var(--sklearn-color-text-on-default-background);\n",
       "}\n",
       "\n",
       "/* On hover, darken the color of the background */\n",
       "#sk-container-id-5 div.sk-label:hover label.sk-toggleable__label {\n",
       "  color: var(--sklearn-color-text);\n",
       "  background-color: var(--sklearn-color-unfitted-level-2);\n",
       "}\n",
       "\n",
       "/* Label box, darken color on hover, fitted */\n",
       "#sk-container-id-5 div.sk-label.fitted:hover label.sk-toggleable__label.fitted {\n",
       "  color: var(--sklearn-color-text);\n",
       "  background-color: var(--sklearn-color-fitted-level-2);\n",
       "}\n",
       "\n",
       "/* Estimator label */\n",
       "\n",
       "#sk-container-id-5 div.sk-label label {\n",
       "  font-family: monospace;\n",
       "  font-weight: bold;\n",
       "  display: inline-block;\n",
       "  line-height: 1.2em;\n",
       "}\n",
       "\n",
       "#sk-container-id-5 div.sk-label-container {\n",
       "  text-align: center;\n",
       "}\n",
       "\n",
       "/* Estimator-specific */\n",
       "#sk-container-id-5 div.sk-estimator {\n",
       "  font-family: monospace;\n",
       "  border: 1px dotted var(--sklearn-color-border-box);\n",
       "  border-radius: 0.25em;\n",
       "  box-sizing: border-box;\n",
       "  margin-bottom: 0.5em;\n",
       "  /* unfitted */\n",
       "  background-color: var(--sklearn-color-unfitted-level-0);\n",
       "}\n",
       "\n",
       "#sk-container-id-5 div.sk-estimator.fitted {\n",
       "  /* fitted */\n",
       "  background-color: var(--sklearn-color-fitted-level-0);\n",
       "}\n",
       "\n",
       "/* on hover */\n",
       "#sk-container-id-5 div.sk-estimator:hover {\n",
       "  /* unfitted */\n",
       "  background-color: var(--sklearn-color-unfitted-level-2);\n",
       "}\n",
       "\n",
       "#sk-container-id-5 div.sk-estimator.fitted:hover {\n",
       "  /* fitted */\n",
       "  background-color: var(--sklearn-color-fitted-level-2);\n",
       "}\n",
       "\n",
       "/* Specification for estimator info (e.g. \"i\" and \"?\") */\n",
       "\n",
       "/* Common style for \"i\" and \"?\" */\n",
       "\n",
       ".sk-estimator-doc-link,\n",
       "a:link.sk-estimator-doc-link,\n",
       "a:visited.sk-estimator-doc-link {\n",
       "  float: right;\n",
       "  font-size: smaller;\n",
       "  line-height: 1em;\n",
       "  font-family: monospace;\n",
       "  background-color: var(--sklearn-color-background);\n",
       "  border-radius: 1em;\n",
       "  height: 1em;\n",
       "  width: 1em;\n",
       "  text-decoration: none !important;\n",
       "  margin-left: 1ex;\n",
       "  /* unfitted */\n",
       "  border: var(--sklearn-color-unfitted-level-1) 1pt solid;\n",
       "  color: var(--sklearn-color-unfitted-level-1);\n",
       "}\n",
       "\n",
       ".sk-estimator-doc-link.fitted,\n",
       "a:link.sk-estimator-doc-link.fitted,\n",
       "a:visited.sk-estimator-doc-link.fitted {\n",
       "  /* fitted */\n",
       "  border: var(--sklearn-color-fitted-level-1) 1pt solid;\n",
       "  color: var(--sklearn-color-fitted-level-1);\n",
       "}\n",
       "\n",
       "/* On hover */\n",
       "div.sk-estimator:hover .sk-estimator-doc-link:hover,\n",
       ".sk-estimator-doc-link:hover,\n",
       "div.sk-label-container:hover .sk-estimator-doc-link:hover,\n",
       ".sk-estimator-doc-link:hover {\n",
       "  /* unfitted */\n",
       "  background-color: var(--sklearn-color-unfitted-level-3);\n",
       "  color: var(--sklearn-color-background);\n",
       "  text-decoration: none;\n",
       "}\n",
       "\n",
       "div.sk-estimator.fitted:hover .sk-estimator-doc-link.fitted:hover,\n",
       ".sk-estimator-doc-link.fitted:hover,\n",
       "div.sk-label-container:hover .sk-estimator-doc-link.fitted:hover,\n",
       ".sk-estimator-doc-link.fitted:hover {\n",
       "  /* fitted */\n",
       "  background-color: var(--sklearn-color-fitted-level-3);\n",
       "  color: var(--sklearn-color-background);\n",
       "  text-decoration: none;\n",
       "}\n",
       "\n",
       "/* Span, style for the box shown on hovering the info icon */\n",
       ".sk-estimator-doc-link span {\n",
       "  display: none;\n",
       "  z-index: 9999;\n",
       "  position: relative;\n",
       "  font-weight: normal;\n",
       "  right: .2ex;\n",
       "  padding: .5ex;\n",
       "  margin: .5ex;\n",
       "  width: min-content;\n",
       "  min-width: 20ex;\n",
       "  max-width: 50ex;\n",
       "  color: var(--sklearn-color-text);\n",
       "  box-shadow: 2pt 2pt 4pt #999;\n",
       "  /* unfitted */\n",
       "  background: var(--sklearn-color-unfitted-level-0);\n",
       "  border: .5pt solid var(--sklearn-color-unfitted-level-3);\n",
       "}\n",
       "\n",
       ".sk-estimator-doc-link.fitted span {\n",
       "  /* fitted */\n",
       "  background: var(--sklearn-color-fitted-level-0);\n",
       "  border: var(--sklearn-color-fitted-level-3);\n",
       "}\n",
       "\n",
       ".sk-estimator-doc-link:hover span {\n",
       "  display: block;\n",
       "}\n",
       "\n",
       "/* \"?\"-specific style due to the `<a>` HTML tag */\n",
       "\n",
       "#sk-container-id-5 a.estimator_doc_link {\n",
       "  float: right;\n",
       "  font-size: 1rem;\n",
       "  line-height: 1em;\n",
       "  font-family: monospace;\n",
       "  background-color: var(--sklearn-color-background);\n",
       "  border-radius: 1rem;\n",
       "  height: 1rem;\n",
       "  width: 1rem;\n",
       "  text-decoration: none;\n",
       "  /* unfitted */\n",
       "  color: var(--sklearn-color-unfitted-level-1);\n",
       "  border: var(--sklearn-color-unfitted-level-1) 1pt solid;\n",
       "}\n",
       "\n",
       "#sk-container-id-5 a.estimator_doc_link.fitted {\n",
       "  /* fitted */\n",
       "  border: var(--sklearn-color-fitted-level-1) 1pt solid;\n",
       "  color: var(--sklearn-color-fitted-level-1);\n",
       "}\n",
       "\n",
       "/* On hover */\n",
       "#sk-container-id-5 a.estimator_doc_link:hover {\n",
       "  /* unfitted */\n",
       "  background-color: var(--sklearn-color-unfitted-level-3);\n",
       "  color: var(--sklearn-color-background);\n",
       "  text-decoration: none;\n",
       "}\n",
       "\n",
       "#sk-container-id-5 a.estimator_doc_link.fitted:hover {\n",
       "  /* fitted */\n",
       "  background-color: var(--sklearn-color-fitted-level-3);\n",
       "}\n",
       "</style><div id=\"sk-container-id-5\" class=\"sk-top-container\"><div class=\"sk-text-repr-fallback\"><pre>Ridge()</pre><b>In a Jupyter environment, please rerun this cell to show the HTML representation or trust the notebook. <br />On GitHub, the HTML representation is unable to render, please try loading this page with nbviewer.org.</b></div><div class=\"sk-container\" hidden><div class=\"sk-item\"><div class=\"sk-estimator fitted sk-toggleable\"><input class=\"sk-toggleable__control sk-hidden--visually\" id=\"sk-estimator-id-5\" type=\"checkbox\" checked><label for=\"sk-estimator-id-5\" class=\"sk-toggleable__label fitted sk-toggleable__label-arrow fitted\">&nbsp;&nbsp;Ridge<a class=\"sk-estimator-doc-link fitted\" rel=\"noreferrer\" target=\"_blank\" href=\"https://scikit-learn.org/1.5/modules/generated/sklearn.linear_model.Ridge.html\">?<span>Documentation for Ridge</span></a><span class=\"sk-estimator-doc-link fitted\">i<span>Fitted</span></span></label><div class=\"sk-toggleable__content fitted\"><pre>Ridge()</pre></div> </div></div></div></div>"
      ],
      "text/plain": [
       "Ridge()"
      ]
     },
     "execution_count": 127,
     "metadata": {},
     "output_type": "execute_result"
    }
   ],
   "source": [
    "reg.fit(x_train,y_train)"
   ]
  },
  {
   "cell_type": "code",
   "execution_count": 128,
   "id": "8e3b9029",
   "metadata": {},
   "outputs": [
    {
     "name": "stdout",
     "output_type": "stream",
     "text": [
      "y_hat: [8.8452165]   rounds to 9.0\n",
      "actual y label: [8]\n"
     ]
    }
   ],
   "source": [
    "y_hat=reg.predict(x_test)\n",
    "print('y_hat: {}   rounds to {}'.format(y_hat,np.round(y_hat)[0]))\n",
    "print('actual y label: {}'.format(y_test))"
   ]
  },
  {
   "cell_type": "code",
   "execution_count": 113,
   "id": "fa0a5f9f",
   "metadata": {},
   "outputs": [
    {
     "data": {
      "text/plain": [
       "['ARDRegression',\n",
       " 'BayesianRidge',\n",
       " 'ElasticNet',\n",
       " 'ElasticNetCV',\n",
       " 'GammaRegressor',\n",
       " 'Hinge',\n",
       " 'Huber',\n",
       " 'HuberRegressor',\n",
       " 'Lars',\n",
       " 'LarsCV',\n",
       " 'Lasso',\n",
       " 'LassoCV',\n",
       " 'LassoLars',\n",
       " 'LassoLarsCV',\n",
       " 'LassoLarsIC',\n",
       " 'LinearRegression',\n",
       " 'Log',\n",
       " 'LogisticRegression',\n",
       " 'LogisticRegressionCV',\n",
       " 'ModifiedHuber',\n",
       " 'MultiTaskElasticNet',\n",
       " 'MultiTaskElasticNetCV',\n",
       " 'MultiTaskLasso',\n",
       " 'MultiTaskLassoCV',\n",
       " 'OrthogonalMatchingPursuit',\n",
       " 'OrthogonalMatchingPursuitCV',\n",
       " 'PassiveAggressiveClassifier',\n",
       " 'PassiveAggressiveRegressor',\n",
       " 'Perceptron',\n",
       " 'PoissonRegressor',\n",
       " 'QuantileRegressor',\n",
       " 'RANSACRegressor',\n",
       " 'Ridge',\n",
       " 'RidgeCV',\n",
       " 'RidgeClassifier',\n",
       " 'RidgeClassifierCV',\n",
       " 'SGDClassifier',\n",
       " 'SGDOneClassSVM',\n",
       " 'SGDRegressor',\n",
       " 'SquaredLoss',\n",
       " 'TheilSenRegressor',\n",
       " 'TweedieRegressor',\n",
       " '__all__',\n",
       " '__builtins__',\n",
       " '__cached__',\n",
       " '__doc__',\n",
       " '__file__',\n",
       " '__loader__',\n",
       " '__name__',\n",
       " '__package__',\n",
       " '__path__',\n",
       " '__spec__',\n",
       " '_base',\n",
       " '_bayes',\n",
       " '_cd_fast',\n",
       " '_coordinate_descent',\n",
       " '_glm',\n",
       " '_huber',\n",
       " '_least_angle',\n",
       " '_linear_loss',\n",
       " '_logistic',\n",
       " '_omp',\n",
       " '_passive_aggressive',\n",
       " '_perceptron',\n",
       " '_quantile',\n",
       " '_ransac',\n",
       " '_ridge',\n",
       " '_sag',\n",
       " '_sag_fast',\n",
       " '_sgd_fast',\n",
       " '_stochastic_gradient',\n",
       " '_theil_sen',\n",
       " 'enet_path',\n",
       " 'lars_path',\n",
       " 'lars_path_gram',\n",
       " 'lasso_path',\n",
       " 'orthogonal_mp',\n",
       " 'orthogonal_mp_gram',\n",
       " 'ridge_regression']"
      ]
     },
     "execution_count": 113,
     "metadata": {},
     "output_type": "execute_result"
    }
   ],
   "source": [
    "dir(linear_model)"
   ]
  },
  {
   "cell_type": "code",
   "execution_count": 115,
   "id": "eb6356d7",
   "metadata": {},
   "outputs": [
    {
     "name": "stdout",
     "output_type": "stream",
     "text": [
      "Linear least squares with l2 regularization.\n",
      "\n",
      "    Minimizes the objective function::\n",
      "\n",
      "    ||y - Xw||^2_2 + alpha * ||w||^2_2\n",
      "\n",
      "    This model solves a regression model where the loss function is\n",
      "    the linear least squares function and regularization is given by\n",
      "    the l2-norm. Also known as Ridge Regression or Tikhonov regularization.\n",
      "    This estimator has built-in support for multi-variate regression\n",
      "    (i.e., when y is a 2d-array of shape (n_samples, n_targets)).\n",
      "\n",
      "    Read more in the :ref:`User Guide <ridge_regression>`.\n",
      "\n",
      "    Parameters\n",
      "    ----------\n",
      "    alpha : {float, ndarray of shape (n_targets,)}, default=1.0\n",
      "        Constant that multiplies the L2 term, controlling regularization\n",
      "        strength. `alpha` must be a non-negative float i.e. in `[0, inf)`.\n",
      "\n",
      "        When `alpha = 0`, the objective is equivalent to ordinary least\n",
      "        squares, solved by the :class:`LinearRegression` object. For numerical\n",
      "        reasons, using `alpha = 0` with the `Ridge` object is not advised.\n",
      "        Instead, you should use the :class:`LinearRegression` object.\n",
      "\n",
      "        If an array is passed, penalties are assumed to be specific to the\n",
      "        targets. Hence they must correspond in number.\n",
      "\n",
      "    fit_intercept : bool, default=True\n",
      "        Whether to fit the intercept for this model. If set\n",
      "        to false, no intercept will be used in calculations\n",
      "        (i.e. ``X`` and ``y`` are expected to be centered).\n",
      "\n",
      "    copy_X : bool, default=True\n",
      "        If True, X will be copied; else, it may be overwritten.\n",
      "\n",
      "    max_iter : int, default=None\n",
      "        Maximum number of iterations for conjugate gradient solver.\n",
      "        For 'sparse_cg' and 'lsqr' solvers, the default value is determined\n",
      "        by scipy.sparse.linalg. For 'sag' solver, the default value is 1000.\n",
      "        For 'lbfgs' solver, the default value is 15000.\n",
      "\n",
      "    tol : float, default=1e-4\n",
      "        The precision of the solution (`coef_`) is determined by `tol` which\n",
      "        specifies a different convergence criterion for each solver:\n",
      "\n",
      "        - 'svd': `tol` has no impact.\n",
      "\n",
      "        - 'cholesky': `tol` has no impact.\n",
      "\n",
      "        - 'sparse_cg': norm of residuals smaller than `tol`.\n",
      "\n",
      "        - 'lsqr': `tol` is set as atol and btol of scipy.sparse.linalg.lsqr,\n",
      "          which control the norm of the residual vector in terms of the norms of\n",
      "          matrix and coefficients.\n",
      "\n",
      "        - 'sag' and 'saga': relative change of coef smaller than `tol`.\n",
      "\n",
      "        - 'lbfgs': maximum of the absolute (projected) gradient=max|residuals|\n",
      "          smaller than `tol`.\n",
      "\n",
      "        .. versionchanged:: 1.2\n",
      "           Default value changed from 1e-3 to 1e-4 for consistency with other linear\n",
      "           models.\n",
      "\n",
      "    solver : {'auto', 'svd', 'cholesky', 'lsqr', 'sparse_cg',             'sag', 'saga', 'lbfgs'}, default='auto'\n",
      "        Solver to use in the computational routines:\n",
      "\n",
      "        - 'auto' chooses the solver automatically based on the type of data.\n",
      "\n",
      "        - 'svd' uses a Singular Value Decomposition of X to compute the Ridge\n",
      "          coefficients. It is the most stable solver, in particular more stable\n",
      "          for singular matrices than 'cholesky' at the cost of being slower.\n",
      "\n",
      "        - 'cholesky' uses the standard scipy.linalg.solve function to\n",
      "          obtain a closed-form solution.\n",
      "\n",
      "        - 'sparse_cg' uses the conjugate gradient solver as found in\n",
      "          scipy.sparse.linalg.cg. As an iterative algorithm, this solver is\n",
      "          more appropriate than 'cholesky' for large-scale data\n",
      "          (possibility to set `tol` and `max_iter`).\n",
      "\n",
      "        - 'lsqr' uses the dedicated regularized least-squares routine\n",
      "          scipy.sparse.linalg.lsqr. It is the fastest and uses an iterative\n",
      "          procedure.\n",
      "\n",
      "        - 'sag' uses a Stochastic Average Gradient descent, and 'saga' uses\n",
      "          its improved, unbiased version named SAGA. Both methods also use an\n",
      "          iterative procedure, and are often faster than other solvers when\n",
      "          both n_samples and n_features are large. Note that 'sag' and\n",
      "          'saga' fast convergence is only guaranteed on features with\n",
      "          approximately the same scale. You can preprocess the data with a\n",
      "          scaler from sklearn.preprocessing.\n",
      "\n",
      "        - 'lbfgs' uses L-BFGS-B algorithm implemented in\n",
      "          `scipy.optimize.minimize`. It can be used only when `positive`\n",
      "          is True.\n",
      "\n",
      "        All solvers except 'svd' support both dense and sparse data. However, only\n",
      "        'lsqr', 'sag', 'sparse_cg', and 'lbfgs' support sparse input when\n",
      "        `fit_intercept` is True.\n",
      "\n",
      "        .. versionadded:: 0.17\n",
      "           Stochastic Average Gradient descent solver.\n",
      "        .. versionadded:: 0.19\n",
      "           SAGA solver.\n",
      "\n",
      "    positive : bool, default=False\n",
      "        When set to ``True``, forces the coefficients to be positive.\n",
      "        Only 'lbfgs' solver is supported in this case.\n",
      "\n",
      "    random_state : int, RandomState instance, default=None\n",
      "        Used when ``solver`` == 'sag' or 'saga' to shuffle the data.\n",
      "        See :term:`Glossary <random_state>` for details.\n",
      "\n",
      "        .. versionadded:: 0.17\n",
      "           `random_state` to support Stochastic Average Gradient.\n",
      "\n",
      "    Attributes\n",
      "    ----------\n",
      "    coef_ : ndarray of shape (n_features,) or (n_targets, n_features)\n",
      "        Weight vector(s).\n",
      "\n",
      "    intercept_ : float or ndarray of shape (n_targets,)\n",
      "        Independent term in decision function. Set to 0.0 if\n",
      "        ``fit_intercept = False``.\n",
      "\n",
      "    n_iter_ : None or ndarray of shape (n_targets,)\n",
      "        Actual number of iterations for each target. Available only for\n",
      "        sag and lsqr solvers. Other solvers will return None.\n",
      "\n",
      "        .. versionadded:: 0.17\n",
      "\n",
      "    n_features_in_ : int\n",
      "        Number of features seen during :term:`fit`.\n",
      "\n",
      "        .. versionadded:: 0.24\n",
      "\n",
      "    feature_names_in_ : ndarray of shape (`n_features_in_`,)\n",
      "        Names of features seen during :term:`fit`. Defined only when `X`\n",
      "        has feature names that are all strings.\n",
      "\n",
      "        .. versionadded:: 1.0\n",
      "\n",
      "    solver_ : str\n",
      "        The solver that was used at fit time by the computational\n",
      "        routines.\n",
      "\n",
      "        .. versionadded:: 1.5\n",
      "\n",
      "    See Also\n",
      "    --------\n",
      "    RidgeClassifier : Ridge classifier.\n",
      "    RidgeCV : Ridge regression with built-in cross validation.\n",
      "    :class:`~sklearn.kernel_ridge.KernelRidge` : Kernel ridge regression\n",
      "        combines ridge regression with the kernel trick.\n",
      "\n",
      "    Notes\n",
      "    -----\n",
      "    Regularization improves the conditioning of the problem and\n",
      "    reduces the variance of the estimates. Larger values specify stronger\n",
      "    regularization. Alpha corresponds to ``1 / (2C)`` in other linear\n",
      "    models such as :class:`~sklearn.linear_model.LogisticRegression` or\n",
      "    :class:`~sklearn.svm.LinearSVC`.\n",
      "\n",
      "    Examples\n",
      "    --------\n",
      "    >>> from sklearn.linear_model import Ridge\n",
      "    >>> import numpy as np\n",
      "    >>> n_samples, n_features = 10, 5\n",
      "    >>> rng = np.random.RandomState(0)\n",
      "    >>> y = rng.randn(n_samples)\n",
      "    >>> X = rng.randn(n_samples, n_features)\n",
      "    >>> clf = Ridge(alpha=1.0)\n",
      "    >>> clf.fit(X, y)\n",
      "    Ridge()\n",
      "    \n"
     ]
    }
   ],
   "source": [
    "print(linear_model.Ridge.__doc__)"
   ]
  },
  {
   "cell_type": "code",
   "execution_count": 118,
   "id": "975f53ee",
   "metadata": {},
   "outputs": [
    {
     "data": {
      "text/plain": [
       "array([ 0.        ,  0.08415114, -0.00932676, -0.02764105,  0.05808444,\n",
       "       -0.00449363, -0.03268417, -0.01264421,  1.08531375, -0.02601468,\n",
       "        0.10352092,  0.04434561, -0.06600974, -0.07414241,  0.0856663 ,\n",
       "        0.24543899, -0.8321219 ,  0.02058916,  0.07884147, -0.03160604,\n",
       "       -0.06710098,  0.04827091, -0.05281683, -0.31097076, -0.64188855,\n",
       "       -0.15871921,  0.03730942,  0.08473695,  0.07199398,  0.09375313,\n",
       "       -0.01941537, -1.86142058,  0.        , -0.15696077, -0.02063343,\n",
       "        0.135733  , -0.04558633,  0.03512977, -0.01005482,  0.        ,\n",
       "        0.15240047,  0.1109282 , -0.01699747, -0.00693439,  0.11284445,\n",
       "        0.05630381,  0.00920862,  0.09739561,  0.46016537,  0.02792761,\n",
       "       -0.00562439, -0.06667307, -0.20620129, -0.0412274 ,  0.10416217,\n",
       "       -0.14757622, -0.40293645, -0.1395464 ,  0.00760498, -0.06233645,\n",
       "       -0.00670413, -0.07880413, -0.00312602, -0.05484025])"
      ]
     },
     "execution_count": 118,
     "metadata": {},
     "output_type": "execute_result"
    }
   ],
   "source": [
    "reg.coef_"
   ]
  },
  {
   "cell_type": "code",
   "execution_count": 119,
   "id": "521b5978",
   "metadata": {},
   "outputs": [
    {
     "data": {
      "text/plain": [
       "(64,)"
      ]
     },
     "execution_count": 119,
     "metadata": {},
     "output_type": "execute_result"
    }
   ],
   "source": [
    "reg.coef_.shape"
   ]
  },
  {
   "cell_type": "code",
   "execution_count": null,
   "id": "5e48b4bd",
   "metadata": {},
   "outputs": [],
   "source": []
  }
 ],
 "metadata": {
  "kernelspec": {
   "display_name": "Packtpub_ML_Training",
   "language": "python",
   "name": "packtpub_ml_training"
  },
  "language_info": {
   "codemirror_mode": {
    "name": "ipython",
    "version": 3
   },
   "file_extension": ".py",
   "mimetype": "text/x-python",
   "name": "python",
   "nbconvert_exporter": "python",
   "pygments_lexer": "ipython3",
   "version": "3.12.3"
  }
 },
 "nbformat": 4,
 "nbformat_minor": 5
}
